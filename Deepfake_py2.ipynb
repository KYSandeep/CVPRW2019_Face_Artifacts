{
  "nbformat": 4,
  "nbformat_minor": 0,
  "metadata": {
    "colab": {
      "name": "Deepfake_py2.ipynb",
      "provenance": []
    },
    "kernelspec": {
      "name": "python2",
      "display_name": "Python 2"
    }
  },
  "cells": [
    {
      "cell_type": "code",
      "metadata": {
        "id": "e5rPv2rhOg_4",
        "outputId": "15860c18-4e49-4657-bafe-59ebf2f8ffe5",
        "colab": {
          "base_uri": "https://localhost:8080/"
        }
      },
      "source": [
        "# USES FILES FROM GOOGLE DRIVE\n",
        "# FASTER THAN UPLOADING EVERY TIME\n",
        "\n",
        "from google.colab import drive\n",
        "drive.mount('/content/drive')"
      ],
      "execution_count": null,
      "outputs": [
        {
          "output_type": "stream",
          "text": [
            "Mounted at /content/drive\n"
          ],
          "name": "stdout"
        }
      ]
    },
    {
      "cell_type": "code",
      "metadata": {
        "id": "qYeK4J_jOjDD",
        "outputId": "542fd8db-6167-472e-e156-1bece5d35349",
        "colab": {
          "base_uri": "https://localhost:8080/"
        }
      },
      "source": [
        "# INSTALLATION OF PACKAGES REQUIRED FOR PYTHON2\n",
        "# UNCOMMENT AND RUN TO INSTALL\n",
        "\n",
        "# !pip install PyYAML==3.12 easydict==1.7 matplotlib==1.5.3 dlib==19.16.0 opencv-python==3.4.0.*\n",
        "# !pip install tensorflow==1.3.0\n",
        "# !pip install opencv-python==3.4.0.14"
      ],
      "execution_count": null,
      "outputs": [
        {
          "output_type": "stream",
          "text": [
            "Collecting tensorflow==1.3.0\n",
            "\u001b[?25l  Downloading https://files.pythonhosted.org/packages/fe/dd/8764ae59e8ff74421d615ddb9c86a1b404c27708dfde3caa8f17c183788d/tensorflow-1.3.0-cp27-cp27mu-manylinux1_x86_64.whl (43.1MB)\n",
            "\u001b[K     |████████████████████████████████| 43.1MB 93kB/s \n",
            "\u001b[?25hRequirement already satisfied: numpy>=1.11.0 in /usr/local/lib/python2.7/dist-packages (from tensorflow==1.3.0) (1.16.4)\n",
            "Requirement already satisfied: mock>=2.0.0 in /usr/local/lib/python2.7/dist-packages (from tensorflow==1.3.0) (2.0.0)\n",
            "Requirement already satisfied: protobuf>=3.3.0 in /usr/local/lib/python2.7/dist-packages (from tensorflow==1.3.0) (3.8.0)\n",
            "Requirement already satisfied: wheel in /usr/local/lib/python2.7/dist-packages (from tensorflow==1.3.0) (0.35.1)\n",
            "Requirement already satisfied: backports.weakref>=1.0rc1 in /usr/local/lib/python2.7/dist-packages (from tensorflow==1.3.0) (1.0.post1)\n",
            "Requirement already satisfied: six>=1.10.0 in /usr/local/lib/python2.7/dist-packages (from tensorflow==1.3.0) (1.15.0)\n",
            "Collecting tensorflow-tensorboard<0.2.0,>=0.1.0\n",
            "\u001b[?25l  Downloading https://files.pythonhosted.org/packages/fb/34/14c23665a725c73932891e09b8f017a53aad545c9d5019d2817102dc5d9b/tensorflow_tensorboard-0.1.8-py2-none-any.whl (1.6MB)\n",
            "\u001b[K     |████████████████████████████████| 1.6MB 47.5MB/s \n",
            "\u001b[?25hRequirement already satisfied: funcsigs>=1; python_version < \"3.3\" in /usr/local/lib/python2.7/dist-packages (from mock>=2.0.0->tensorflow==1.3.0) (1.0.2)\n",
            "Requirement already satisfied: pbr>=0.11 in /usr/local/lib/python2.7/dist-packages (from mock>=2.0.0->tensorflow==1.3.0) (5.4.0)\n",
            "Requirement already satisfied: setuptools in /usr/local/lib/python2.7/dist-packages (from protobuf>=3.3.0->tensorflow==1.3.0) (44.1.1)\n",
            "Collecting bleach==1.5.0\n",
            "  Downloading https://files.pythonhosted.org/packages/33/70/86c5fec937ea4964184d4d6c4f0b9551564f821e1c3575907639036d9b90/bleach-1.5.0-py2.py3-none-any.whl\n",
            "Collecting html5lib==0.9999999\n",
            "\u001b[?25l  Downloading https://files.pythonhosted.org/packages/ae/ae/bcb60402c60932b32dfaf19bb53870b29eda2cd17551ba5639219fb5ebf9/html5lib-0.9999999.tar.gz (889kB)\n",
            "\u001b[K     |████████████████████████████████| 890kB 48.4MB/s \n",
            "\u001b[?25hRequirement already satisfied: werkzeug>=0.11.10 in /usr/local/lib/python2.7/dist-packages (from tensorflow-tensorboard<0.2.0,>=0.1.0->tensorflow==1.3.0) (0.15.5)\n",
            "Requirement already satisfied: markdown>=2.6.8 in /usr/local/lib/python2.7/dist-packages (from tensorflow-tensorboard<0.2.0,>=0.1.0->tensorflow==1.3.0) (3.1.1)\n",
            "Building wheels for collected packages: html5lib\n",
            "  Building wheel for html5lib (setup.py) ... \u001b[?25l\u001b[?25hdone\n",
            "  Created wheel for html5lib: filename=html5lib-0.9999999-cp27-none-any.whl size=107222 sha256=f4584c466be730d1ff535182760c2543d0afdaafeb19b09bf47515351571d204\n",
            "  Stored in directory: /root/.cache/pip/wheels/50/ae/f9/d2b189788efcf61d1ee0e36045476735c838898eef1cad6e29\n",
            "Successfully built html5lib\n",
            "\u001b[31mERROR: fastai 0.7.0 has requirement torch<0.4, but you'll have torch 1.4.0 which is incompatible.\u001b[0m\n",
            "Installing collected packages: html5lib, bleach, tensorflow-tensorboard, tensorflow\n",
            "  Found existing installation: html5lib 1.0.1\n",
            "    Uninstalling html5lib-1.0.1:\n",
            "      Successfully uninstalled html5lib-1.0.1\n",
            "  Found existing installation: bleach 3.1.0\n",
            "    Uninstalling bleach-3.1.0:\n",
            "      Successfully uninstalled bleach-3.1.0\n",
            "  Found existing installation: tensorflow 2.1.0\n",
            "    Uninstalling tensorflow-2.1.0:\n",
            "      Successfully uninstalled tensorflow-2.1.0\n",
            "Successfully installed bleach-1.5.0 html5lib-0.9999999 tensorflow-1.3.0 tensorflow-tensorboard-0.1.8\n"
          ],
          "name": "stdout"
        }
      ]
    },
    {
      "cell_type": "code",
      "metadata": {
        "id": "0n-rVaqvOv6v",
        "outputId": "ff1829fb-4bef-43d5-aa2d-cc71c3eafcff",
        "colab": {
          "base_uri": "https://localhost:8080/"
        }
      },
      "source": [
        "# MOVE TO THE PATH WHERE I STORED THE REPO (CAN BE CHANGED TO THE LOCATION IN YOUR DRIVE)\n",
        "\n",
        "%cd drive/'My Drive'/'Colab Notebooks'/CVPRW2019_Face_Artifacts-master"
      ],
      "execution_count": null,
      "outputs": [
        {
          "output_type": "stream",
          "text": [
            "[Errno 2] No such file or directory: 'drive/My Drive/Colab Notebooks/CVPRW2019_Face_Artifacts-master'\n",
            "/content/drive/My Drive/Colab Notebooks/CVPRW2019_Face_Artifacts-master\n"
          ],
          "name": "stdout"
        }
      ]
    },
    {
      "cell_type": "code",
      "metadata": {
        "id": "KCixbVdpPhRG",
        "outputId": "59031009-47db-4ca2-bc77-965f226679c6",
        "colab": {
          "base_uri": "https://localhost:8080/"
        }
      },
      "source": [
        "# RUN DEMO - CHANGE INPUT DIRECTORY AS REQUIRED\n",
        "# 'deepfake samples' CONSISTS OF THE FIRST FEW RESULTS FOR DEEPFAKES\n",
        "# IMAGES SIZES NEED TO BE A LITTLE LARGER THAN 100x150, AS THE FACE RECOGNITION DOES NOT WORK OTHERWISE\n",
        "\n",
        "!python demo.py --input_dir='deepfake samples'"
      ],
      "execution_count": null,
      "outputs": [
        {
          "output_type": "stream",
          "text": [
            "***********\n",
            "Detecting DeepFake images, prob == -1 denotes opt out\n",
            "***********\n",
            "2020-11-07 06:50:35.598083: W tensorflow/core/platform/cpu_feature_guard.cc:45] The TensorFlow library wasn't compiled to use SSE4.1 instructions, but these are available on your machine and could speed up CPU computations.\n",
            "2020-11-07 06:50:35.598129: W tensorflow/core/platform/cpu_feature_guard.cc:45] The TensorFlow library wasn't compiled to use SSE4.2 instructions, but these are available on your machine and could speed up CPU computations.\n",
            "2020-11-07 06:50:35.598141: W tensorflow/core/platform/cpu_feature_guard.cc:45] The TensorFlow library wasn't compiled to use AVX instructions, but these are available on your machine and could speed up CPU computations.\n",
            "2020-11-07 06:50:35.598152: W tensorflow/core/platform/cpu_feature_guard.cc:45] The TensorFlow library wasn't compiled to use AVX2 instructions, but these are available on your machine and could speed up CPU computations.\n",
            "2020-11-07 06:50:35.598166: W tensorflow/core/platform/cpu_feature_guard.cc:45] The TensorFlow library wasn't compiled to use FMA instructions, but these are available on your machine and could speed up CPU computations.\n",
            "Loading checkpoint /content/drive/My Drive/Colab Notebooks/CVPRW2019_Face_Artifacts-master/ckpt_res50/model\n",
            "Testing: deepfake samples/1.jpg\n",
            "Prob: 0.00018073202\n",
            "Testing: deepfake samples/11.jpg\n",
            "Prob: 9.675272e-06\n",
            "Testing: deepfake samples/2.jpg\n",
            "Prob: 0.03452447\n",
            "Testing: deepfake samples/22.jpg\n",
            "Prob: 0.85762435\n",
            "Testing: deepfake samples/3.jpg\n",
            "Prob: -1\n",
            "Testing: deepfake samples/33.jpg\n",
            "Prob: 0.00018268824\n",
            "Testing: deepfake samples/6.jpg\n",
            "Prob: 0.95898473\n",
            "Testing: deepfake samples/66.jpg\n",
            "Prob: 0.8239256\n",
            "Testing: deepfake samples/5.jpg\n",
            "Prob: -1\n",
            "Testing: deepfake samples/55.jpg\n",
            "Prob: -1\n"
          ],
          "name": "stdout"
        }
      ]
    },
    {
      "cell_type": "code",
      "metadata": {
        "id": "LTNcHMCvdn41"
      },
      "source": [
        ""
      ],
      "execution_count": null,
      "outputs": []
    }
  ]
}